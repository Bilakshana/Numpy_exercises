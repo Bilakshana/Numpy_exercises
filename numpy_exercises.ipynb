{
 "cells": [
  {
   "cell_type": "code",
   "execution_count": 1,
   "id": "7375e60b-d596-4c2d-a472-d0a9d7482201",
   "metadata": {},
   "outputs": [
    {
     "name": "stdout",
     "output_type": "stream",
     "text": [
      "Requirement already satisfied: numpy in /opt/anaconda3/lib/python3.13/site-packages (2.1.3)\n"
     ]
    }
   ],
   "source": [
    "!pip install numpy"
   ]
  },
  {
   "cell_type": "code",
   "execution_count": 2,
   "id": "34ee8458",
   "metadata": {},
   "outputs": [],
   "source": [
    "import numpy as np"
   ]
  },
  {
   "cell_type": "code",
   "execution_count": 3,
   "id": "e7eaca04",
   "metadata": {},
   "outputs": [
    {
     "name": "stdout",
     "output_type": "stream",
     "text": [
      "[[11 13 15]\n",
      " [17 19 21]]\n"
     ]
    }
   ],
   "source": [
    "first_array=np.array([[1,2,3],[4,5,6]])\n",
    "second_array=np.array([[10,11,12],[13,14,15]])\n",
    "print(np.add(first_array,second_array))"
   ]
  },
  {
   "cell_type": "code",
   "execution_count": 4,
   "id": "caed8475",
   "metadata": {},
   "outputs": [
    {
     "name": "stdout",
     "output_type": "stream",
     "text": [
      "[[ 2  4  6]\n",
      " [ 8 10 12]]\n"
     ]
    }
   ],
   "source": [
    "array=np.array([[1,2,3],[4,5,6]])\n",
    "print(np.multiply(array,2))"
   ]
  },
  {
   "cell_type": "code",
   "execution_count": 5,
   "id": "4a36d817",
   "metadata": {},
   "outputs": [
    {
     "name": "stdout",
     "output_type": "stream",
     "text": [
      "[[1. 0. 0. 0.]\n",
      " [0. 1. 0. 0.]\n",
      " [0. 0. 1. 0.]\n",
      " [0. 0. 0. 1.]]\n"
     ]
    }
   ],
   "source": [
    "identity_matrix = np.identity(4)\n",
    "print(identity_matrix)"
   ]
  },
  {
   "cell_type": "code",
   "execution_count": 6,
   "id": "6e2586e3",
   "metadata": {},
   "outputs": [
    {
     "name": "stdout",
     "output_type": "stream",
     "text": [
      "[[[ 0  1  2]\n",
      "  [ 3  4  5]\n",
      "  [ 6  7  8]]\n",
      "\n",
      " [[ 9 10 11]\n",
      "  [12 13 14]\n",
      "  [15 16 17]]\n",
      "\n",
      " [[18 19 20]\n",
      "  [21 22 23]\n",
      "  [24 25 25]]]\n"
     ]
    }
   ],
   "source": [
    "array1D = np.array([\n",
    "    0, 1, 2,\n",
    "    3, 4, 5,\n",
    "    6, 7, 8,\n",
    "    9, 10, 11,\n",
    "    12, 13, 14,\n",
    "    15, 16, 17,\n",
    "    18, 19, 20,\n",
    "    21, 22, 23,\n",
    "    24, 25, 25\n",
    "])\n",
    "\n",
    "array3D = array1D.reshape(3, 3, 3)\n",
    "print(array3D)\n"
   ]
  },
  {
   "cell_type": "code",
   "execution_count": 7,
   "id": "850dce68",
   "metadata": {},
   "outputs": [
    {
     "name": "stdout",
     "output_type": "stream",
     "text": [
      "original array: [[2.5  3.8  1.5 ]\n",
      " [4.7  2.9  1.56]]\n",
      "Integer datatype array: [[2 3 1]\n",
      " [4 2 1]]\n"
     ]
    }
   ],
   "source": [
    "original_array = np.array([[2.5, 3.8, 1.5], [4.7, 2.9, 1.56]])\n",
    "print('original array:', original_array)\n",
    "\n",
    "integer_datatype_array = original_array.astype(int)\n",
    "print('Integer datatype array:', integer_datatype_array)"
   ]
  },
  {
   "cell_type": "code",
   "execution_count": 8,
   "id": "87ffbae4",
   "metadata": {},
   "outputs": [
    {
     "name": "stdout",
     "output_type": "stream",
     "text": [
      "Original array:\n",
      "[[1 1 0]\n",
      " [0 1 0]\n",
      " [0 1 0]]\n",
      "Boolean array:\n",
      "[[ True  True False]\n",
      " [False  True False]\n",
      " [False  True False]]\n"
     ]
    }
   ],
   "source": [
    "original_array = np.array([[1, 1, 0], [0, 1, 0], [0, 1, 0]])\n",
    "print('Original array:')\n",
    "print(original_array)\n",
    "\n",
    "boolean_array = original_array.astype(bool)\n",
    "print('Boolean array:')\n",
    "print(boolean_array)\n"
   ]
  },
  {
   "cell_type": "code",
   "execution_count": 9,
   "id": "17045a33",
   "metadata": {},
   "outputs": [
    {
     "name": "stdout",
     "output_type": "stream",
     "text": [
      "[[ 1  4  7 10]\n",
      " [ 2  5  8 11]\n",
      " [ 3  6  9 12]]\n"
     ]
    }
   ],
   "source": [
    "arr1 = np.array(\n",
    "  [[1, 4],\n",
    "   [2, 5],\n",
    "   [3, 6]])\n",
    "\n",
    "arr2 = np.array(\n",
    "  [[7, 10],\n",
    "   [8, 11],\n",
    "   [9, 12]])\n",
    "\n",
    "print(np.hstack((arr1, arr2)))\n"
   ]
  },
  {
   "cell_type": "code",
   "execution_count": 10,
   "id": "be635bf4",
   "metadata": {},
   "outputs": [
    {
     "name": "stdout",
     "output_type": "stream",
     "text": [
      "[  0   2   4   6   8  10  12  14  16  18  20  22  24  26  28  30  32  34\n",
      "  36  38  40  42  44  46  48  50  52  54  56  58  60  62  64  66  68  70\n",
      "  72  74  76  78  80  82  84  86  88  90  92  94  96  98 100]\n"
     ]
    }
   ],
   "source": [
    "array = np.arange(0, 102, 2)  \n",
    "print(array)"
   ]
  },
  {
   "cell_type": "code",
   "execution_count": 11,
   "id": "c03edd09",
   "metadata": {},
   "outputs": [
    {
     "name": "stdout",
     "output_type": "stream",
     "text": [
      "Sum using loop: 499916.0418353771\n",
      "Sum using NumPy sum: 499916.04183541\n"
     ]
    }
   ],
   "source": [
    "rand_array = np.random.rand(1000000)\n",
    "\n",
    "sum_loop = 0\n",
    "for i in rand_array:\n",
    "    sum_loop += i\n",
    "\n",
    "print(\"Sum using loop:\", sum_loop)\n",
    "\n",
    "sum_numpy = np.sum(rand_array)\n",
    "print(\"Sum using NumPy sum:\", sum_numpy)"
   ]
  },
  {
   "cell_type": "code",
   "execution_count": 13,
   "id": "435a0f21",
   "metadata": {},
   "outputs": [
    {
     "name": "stdout",
     "output_type": "stream",
     "text": [
      "(array([0, 3, 4]),)\n"
     ]
    }
   ],
   "source": [
    "array_1 = np.array([1, 2, 3, 4, 5])\n",
    "array_2 = np.array([1, 3, 2, 4, 5])\n",
    "\n",
    "result = np.where(array_1 == array_2)\n",
    "print(result)"
   ]
  },
  {
   "cell_type": "code",
   "execution_count": 14,
   "id": "5ccf940b",
   "metadata": {},
   "outputs": [
    {
     "name": "stdout",
     "output_type": "stream",
     "text": [
      "[  0.  25.  50.  75. 100.]\n"
     ]
    }
   ],
   "source": [
    "array = np.linspace(0, 100, 5)\n",
    "print(array)"
   ]
  },
  {
   "cell_type": "code",
   "execution_count": 15,
   "id": "633d9316",
   "metadata": {},
   "outputs": [
    {
     "name": "stdout",
     "output_type": "stream",
     "text": [
      "[[5 5 5]\n",
      " [5 5 5]]\n"
     ]
    }
   ],
   "source": [
    "print(np.full((2, 3), 5))"
   ]
  },
  {
   "cell_type": "code",
   "execution_count": 16,
   "id": "1281b106",
   "metadata": {},
   "outputs": [
    {
     "name": "stdout",
     "output_type": "stream",
     "text": [
      "[[ 6  2  7  1  0]\n",
      " [ 0 10  7  5  0]\n",
      " [ 2  6  4  8  4]\n",
      " [ 8  9  2  3  0]\n",
      " [ 6  5  7  1  1]]\n"
     ]
    }
   ],
   "source": [
    "array = np.random.randint(0, 11, size=(5, 5))\n",
    "print(array)"
   ]
  },
  {
   "cell_type": "code",
   "execution_count": 17,
   "id": "97d00cac",
   "metadata": {},
   "outputs": [
    {
     "name": "stdout",
     "output_type": "stream",
     "text": [
      "[[ 36  42  48]\n",
      " [ 81  96 111]\n",
      " [126 150 174]]\n"
     ]
    }
   ],
   "source": [
    "array_1 = np.array([[1, 2, 3],\n",
    "                 [4, 5, 6],\n",
    "                 [7, 8, 9]])\n",
    "\n",
    "array_2 = np.array([[2, 3, 4],\n",
    "                 [5, 6, 7],\n",
    "                 [8, 9, 10]])\n",
    "\n",
    "print(np.dot(array_1, array_2))"
   ]
  },
  {
   "cell_type": "code",
   "execution_count": 18,
   "id": "bd49bfa4",
   "metadata": {},
   "outputs": [
    {
     "name": "stdout",
     "output_type": "stream",
     "text": [
      "Original 2x3 matrix:\n",
      "[[0.84998647 0.8523208  0.7151393 ]\n",
      " [0.16842185 0.7884519  0.88695103]]\n",
      "\n",
      "Transposed matrix (3x2):\n",
      "[[0.84998647 0.16842185]\n",
      " [0.8523208  0.7884519 ]\n",
      " [0.7151393  0.88695103]]\n"
     ]
    }
   ],
   "source": [
    "matrix = np.random.rand(2, 3)\n",
    "print(\"Original 2x3 matrix:\")\n",
    "print(matrix)\n",
    "\n",
    "transpose_matrix = matrix.T\n",
    "print(\"\\nTransposed matrix (3x2):\")\n",
    "print(transpose_matrix)"
   ]
  },
  {
   "cell_type": "code",
   "execution_count": 19,
   "id": "43d9498f",
   "metadata": {},
   "outputs": [
    {
     "name": "stdout",
     "output_type": "stream",
     "text": [
      "flatten: 15.3668474320532\n",
      "axis 0: [ 7.56224173 17.68473918 18.59267329  3.04138127  0.        ]\n",
      "axis 1: [ 0.          8.7772433  20.53874388 16.40243884]\n"
     ]
    }
   ],
   "source": [
    "arr = np.array([\n",
    "    [2, 2, 2, 2, 2],\n",
    "    [15, 6, 27, 8, 2],\n",
    "    [23, 2, 54, 1, 2],\n",
    "    [11, 44, 34, 7, 2]\n",
    "])\n",
    "\n",
    "print('flatten:', np.std(arr))\n",
    "print('axis 0:', np.std(arr, axis=0))\n",
    "print('axis 1:', np.std(arr, axis=1))\n"
   ]
  },
  {
   "cell_type": "code",
   "execution_count": 20,
   "id": "5c66ef83",
   "metadata": {},
   "outputs": [
    {
     "name": "stdout",
     "output_type": "stream",
     "text": [
      "[[ 0.17647059 -0.00326797 -0.02287582]\n",
      " [ 0.05882353 -0.13071895  0.08496732]\n",
      " [-0.11764706  0.1503268   0.05228758]]\n"
     ]
    }
   ],
   "source": [
    "arr = np.array([[6, 1, 1],\n",
    "                [4, -2, 5],\n",
    "                [2, 8, 7]])\n",
    "\n",
    "print(np.linalg.inv(arr))"
   ]
  },
  {
   "cell_type": "code",
   "execution_count": 21,
   "id": "af21315a",
   "metadata": {},
   "outputs": [
    {
     "name": "stdout",
     "output_type": "stream",
     "text": [
      "Requirement already satisfied: pillow in /opt/anaconda3/lib/python3.13/site-packages (11.1.0)\n"
     ]
    }
   ],
   "source": [
    "!pip install pillow"
   ]
  },
  {
   "cell_type": "code",
   "execution_count": 23,
   "id": "38cbaf0e",
   "metadata": {},
   "outputs": [
    {
     "name": "stdout",
     "output_type": "stream",
     "text": [
      "[[[ 75  13  16]\n",
      "  [ 80   2  15]\n",
      "  [ 96   3  24]\n",
      "  ...\n",
      "  [103  43  43]\n",
      "  [ 83  24  18]\n",
      "  [ 84  39  36]]\n",
      "\n",
      " [[ 65   0   0]\n",
      "  [ 79   1  15]\n",
      "  [ 75   3  17]\n",
      "  ...\n",
      "  [ 89  49  60]\n",
      "  [ 97  56  64]\n",
      "  [ 73  40  47]]\n",
      "\n",
      " [[ 51   4  12]\n",
      "  [ 57   7  16]\n",
      "  [ 52   5  11]\n",
      "  ...\n",
      "  [103  84 103]\n",
      "  [ 62  38  54]\n",
      "  [ 52  26  39]]\n",
      "\n",
      " ...\n",
      "\n",
      " [[127 126 144]\n",
      "  [127 126 144]\n",
      "  [128 127 145]\n",
      "  ...\n",
      "  [ 81  94 126]\n",
      "  [ 81  94 126]\n",
      "  [ 81  94 126]]\n",
      "\n",
      " [[110 115 135]\n",
      "  [111 116 136]\n",
      "  [111 116 136]\n",
      "  ...\n",
      "  [ 79  92 126]\n",
      "  [ 79  92 126]\n",
      "  [ 79  92 126]]\n",
      "\n",
      " [[102 108 132]\n",
      "  [102 108 132]\n",
      "  [102 108 132]\n",
      "  ...\n",
      "  [ 79  92 126]\n",
      "  [ 79  92 126]\n",
      "  [ 79  92 126]]]\n",
      "Shape: (144, 349, 3)\n"
     ]
    }
   ],
   "source": [
    "from PIL import Image\n",
    "import numpy as np\n",
    "\n",
    "image = Image.open('Nature.jpeg')\n",
    "image_array = np.array(image)\n",
    "\n",
    "print(image_array)\n",
    "print(\"Shape:\", image_array.shape)\n"
   ]
  },
  {
   "cell_type": "code",
   "execution_count": 24,
   "id": "ad070d9e",
   "metadata": {},
   "outputs": [
    {
     "name": "stdout",
     "output_type": "stream",
     "text": [
      "[  0   1   8  27  64 125 216]\n"
     ]
    }
   ],
   "source": [
    "data = {0: 0, 1: 1, 2: 8, 3: 27, 4: 64, 5: 125, 6: 216}\n",
    "arr = np.array(list(data.values()))\n",
    "print(arr)"
   ]
  },
  {
   "cell_type": "code",
   "execution_count": 25,
   "id": "98901c77",
   "metadata": {},
   "outputs": [
    {
     "name": "stdout",
     "output_type": "stream",
     "text": [
      "Solution: [2.6 3.2 1. ]\n"
     ]
    }
   ],
   "source": [
    "a=np.array([[3,1,-2],[2,-1,1],[1,2,3]])\n",
    "b=np.array([9,3,12])\n",
    "solutions=np.linalg.solve(a,b)\n",
    "print(\"Solution:\",solutions)"
   ]
  },
  {
   "cell_type": "code",
   "execution_count": 26,
   "id": "88a6e5e5",
   "metadata": {},
   "outputs": [
    {
     "name": "stdout",
     "output_type": "stream",
     "text": [
      "Original 3x3x3 array:\n",
      " [[[0.30028218 0.16807508 0.82294058]\n",
      "  [0.6921286  0.99143298 0.60693198]\n",
      "  [0.06150559 0.78961715 0.84591723]]\n",
      "\n",
      " [[0.85063005 0.65802659 0.15898614]\n",
      "  [0.25076472 0.0913909  0.5955827 ]\n",
      "  [0.89883721 0.63085386 0.36054313]]\n",
      "\n",
      " [[0.92257448 0.99912789 0.22430309]\n",
      "  [0.92749602 0.9089736  0.14328293]\n",
      "  [0.92739043 0.83573995 0.737144  ]]]\n",
      "\n",
      "Flattened 1D array:\n",
      " [0.30028218 0.16807508 0.82294058 0.6921286  0.99143298 0.60693198\n",
      " 0.06150559 0.78961715 0.84591723 0.85063005 0.65802659 0.15898614\n",
      " 0.25076472 0.0913909  0.5955827  0.89883721 0.63085386 0.36054313\n",
      " 0.92257448 0.99912789 0.22430309 0.92749602 0.9089736  0.14328293\n",
      " 0.92739043 0.83573995 0.737144  ]\n"
     ]
    }
   ],
   "source": [
    "array = np.random.rand(3, 3, 3)\n",
    "print(\"Original 3x3x3 array:\\n\", array)\n",
    "\n",
    "flattened = array.flatten()\n",
    "print(\"\\nFlattened 1D array:\\n\", flattened)"
   ]
  },
  {
   "cell_type": "code",
   "execution_count": 30,
   "id": "9dc5573f",
   "metadata": {},
   "outputs": [
    {
     "name": "stdout",
     "output_type": "stream",
     "text": [
      "Original 3x3 array:\n",
      " [[0.63116243 0.48581505 0.79922157]\n",
      " [0.34197691 0.62158558 0.07665447]\n",
      " [0.40049685 0.50573015 0.53193988]]\n",
      "\n",
      "Pairwise Euclidean distance between rows:\n",
      " [[0.         0.79004122 0.35361381]\n",
      " [0.79004122 0.         0.47342568]\n",
      " [0.35361381 0.47342568 0.        ]]\n"
     ]
    }
   ],
   "source": [
    "array = np.random.rand(3, 3)\n",
    "print(\"Original 3x3 array:\\n\", array)\n",
    "\n",
    "distances = np.linalg.norm(array[:, np.newaxis] - array, axis=2)\n",
    "print(\"\\nPairwise Euclidean distance between rows:\\n\", distances)\n"
   ]
  },
  {
   "cell_type": "code",
   "execution_count": null,
   "id": "255ada22",
   "metadata": {},
   "outputs": [],
   "source": []
  }
 ],
 "metadata": {
  "kernelspec": {
   "display_name": "base",
   "language": "python",
   "name": "python3"
  },
  "language_info": {
   "codemirror_mode": {
    "name": "ipython",
    "version": 3
   },
   "file_extension": ".py",
   "mimetype": "text/x-python",
   "name": "python",
   "nbconvert_exporter": "python",
   "pygments_lexer": "ipython3",
   "version": "3.13.5"
  }
 },
 "nbformat": 4,
 "nbformat_minor": 5
}
